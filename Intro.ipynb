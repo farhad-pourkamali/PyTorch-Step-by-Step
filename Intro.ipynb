{
 "cells": [
  {
   "cell_type": "code",
   "execution_count": 1,
   "metadata": {},
   "outputs": [
    {
     "name": "stdout",
     "output_type": "stream",
     "text": [
      "2.3.1+cu121\n"
     ]
    }
   ],
   "source": [
    "import torch\n",
    "\n",
    "# check the version of PyTorch\n",
    "print(torch.__version__)"
   ]
  },
  {
   "cell_type": "markdown",
   "metadata": {},
   "source": [
    "### Create a simple neural network  model for image classification\n",
    "\n",
    "`torch.nn` (https://pytorch.org/docs/stable/nn.html) is the core module in PyTorch for building neural networks. It provides a comprehensive set of classes and functions to define, train, and evaluate various types of neural network architectures.\n",
    "\n",
    " Here's a breakdown of the key components you'll find within `torch.nn`:   \n",
    "\n",
    " * Containers \n",
    "    * `Module` is Base class for all neural network modules\n",
    "    * `Sequential` simplifies the construction of feedforward models by stacking layers in a sequential manner\n",
    " * Linear, Convolution, Recurrent, Transformer Layers, etc.\n",
    " * Activation Functions\n",
    " * Loss Functions\n",
    "\n"
   ]
  },
  {
   "cell_type": "markdown",
   "metadata": {},
   "source": [
    "In PyTorch, the `Dataset` and `DataLoader` modules from `torch.utils.data` are critical for handling and organizing data for training machine learning models, especially deep learning models. Here's a breakdown of each:\n",
    "* `Dataset`: The `Dataset` class is an abstract class representing a dataset. It provides a way to define how your data is loaded and processed. In PyTorch, when you want to work with custom datasets (or even standard ones), you usually subclass the `Dataset` class.\n",
    "* `DataLoader`:  The `DataLoader` class wraps an iterable over the dataset to help efficiently load the data in batches, shuffle it, and handle other details. It simplifies the process of feeding data into your model for training and evaluation. For example, it can group data into batches of a specified size, which is more efficient for training neural networks."
   ]
  },
  {
   "cell_type": "code",
   "execution_count": 2,
   "metadata": {},
   "outputs": [],
   "source": [
    "import torch \n",
    "import torch.nn as nn\n",
    "from torch.utils.data import Dataset, DataLoader\n",
    "from torch.optim import Adam"
   ]
  },
  {
   "cell_type": "markdown",
   "metadata": {},
   "source": [
    "`torchvision.transforms.v2` is an extension of the `torchvision.transforms` module, designed to provide more flexible and advanced data augmentation and preprocessing utilities in PyTorch, particularly for computer vision tasks. For example, resizing, normalizing, and flipping images and tensors. "
   ]
  },
  {
   "cell_type": "code",
   "execution_count": 3,
   "metadata": {},
   "outputs": [],
   "source": [
    "import torchvision\n",
    "import torchvision.transforms.v2 as transforms\n",
    "import torchvision.transforms.functional as F\n",
    "import matplotlib.pyplot as plt"
   ]
  },
  {
   "cell_type": "markdown",
   "metadata": {},
   "source": [
    "Let us write PyTorch code that works on both GPU (using CUDA) and CPU. It is often called \"model-agnostic\" because it allows your model to run on either GPU or CPU without changing the rest of the code."
   ]
  },
  {
   "cell_type": "code",
   "execution_count": 4,
   "metadata": {},
   "outputs": [
    {
     "data": {
      "text/plain": [
       "True"
      ]
     },
     "execution_count": 4,
     "metadata": {},
     "output_type": "execute_result"
    }
   ],
   "source": [
    "torch.cuda.is_available()"
   ]
  },
  {
   "cell_type": "code",
   "execution_count": 5,
   "metadata": {},
   "outputs": [
    {
     "name": "stdout",
     "output_type": "stream",
     "text": [
      "cuda\n"
     ]
    }
   ],
   "source": [
    "device = torch.device(\"cuda\" if torch.cuda.is_available() else \"cpu\")\n",
    "\n",
    "print(device) # if \"cuda\" the model will be moved to the GPU for faster computation"
   ]
  },
  {
   "cell_type": "markdown",
   "metadata": {},
   "source": [
    "The rest of this notebook is divided into three parts:\n",
    "\n",
    "1. Preparing the data\n",
    "2. Defining and compiling the model\n",
    "3. Training and evaluating the model"
   ]
  },
  {
   "cell_type": "markdown",
   "metadata": {},
   "source": [
    "### Part 1: Preparing Data"
   ]
  },
  {
   "cell_type": "markdown",
   "metadata": {},
   "source": [
    "Torchvision provides many built-in datasets in the `torchvision.datasets` module (https://pytorch.org/vision/0.19/datasets.html)"
   ]
  },
  {
   "cell_type": "code",
   "execution_count": 6,
   "metadata": {},
   "outputs": [],
   "source": [
    "train_set = torchvision.datasets.MNIST(\"./data/\", train=True, download=True)\n",
    "valid_set = torchvision.datasets.MNIST(\"./data/\", train=False, download=True)"
   ]
  },
  {
   "cell_type": "code",
   "execution_count": 7,
   "metadata": {},
   "outputs": [
    {
     "name": "stdout",
     "output_type": "stream",
     "text": [
      "Dataset MNIST\n",
      "    Number of datapoints: 60000\n",
      "    Root location: ./data/\n",
      "    Split: Train\n"
     ]
    }
   ],
   "source": [
    "print(train_set)"
   ]
  },
  {
   "cell_type": "code",
   "execution_count": 8,
   "metadata": {},
   "outputs": [
    {
     "name": "stdout",
     "output_type": "stream",
     "text": [
      "Dataset MNIST\n",
      "    Number of datapoints: 10000\n",
      "    Root location: ./data/\n",
      "    Split: Test\n"
     ]
    }
   ],
   "source": [
    "print(valid_set)"
   ]
  },
  {
   "cell_type": "code",
   "execution_count": 9,
   "metadata": {},
   "outputs": [
    {
     "data": {
      "text/plain": [
       "(<PIL.Image.Image image mode=L size=28x28>, 5)"
      ]
     },
     "execution_count": 9,
     "metadata": {},
     "output_type": "execute_result"
    }
   ],
   "source": [
    "# what is inside? \n",
    "\n",
    "train_set[0]"
   ]
  },
  {
   "cell_type": "code",
   "execution_count": 10,
   "metadata": {},
   "outputs": [],
   "source": [
    "image, label = train_set[0]"
   ]
  },
  {
   "cell_type": "code",
   "execution_count": 11,
   "metadata": {},
   "outputs": [
    {
     "data": {
      "image/png": "[encoded data removed]",
      "text/plain": [
       "<PIL.Image.Image image mode=L size=28x28>"
      ]
     },
     "execution_count": 11,
     "metadata": {},
     "output_type": "execute_result"
    }
   ],
   "source": [
    "image"
   ]
  },
  {
   "cell_type": "code",
   "execution_count": 12,
   "metadata": {},
   "outputs": [
    {
     "data": {
      "text/plain": [
       "PIL.Image.Image"
      ]
     },
     "execution_count": 12,
     "metadata": {},
     "output_type": "execute_result"
    }
   ],
   "source": [
    "type(image) "
   ]
  },
  {
   "cell_type": "markdown",
   "metadata": {},
   "source": [
    "`PIL.Image.Image` is essentially a Python object that encapsulates all the information and properties related to an image"
   ]
  },
  {
   "cell_type": "code",
   "execution_count": 13,
   "metadata": {},
   "outputs": [
    {
     "data": {
      "text/plain": [
       "5"
      ]
     },
     "execution_count": 13,
     "metadata": {},
     "output_type": "execute_result"
    }
   ],
   "source": [
    "label"
   ]
  },
  {
   "cell_type": "code",
   "execution_count": 14,
   "metadata": {},
   "outputs": [
    {
     "data": {
      "text/plain": [
       "int"
      ]
     },
     "execution_count": 14,
     "metadata": {},
     "output_type": "execute_result"
    }
   ],
   "source": [
    "type(label)"
   ]
  },
  {
   "cell_type": "markdown",
   "metadata": {},
   "source": [
    "In PyTorch, `torchvision.transforms.functional.to_tensor` is a function that converts a given image (in the form of a PIL Image or NumPy array) into a PyTorch tensor. "
   ]
  },
  {
   "cell_type": "code",
   "execution_count": 15,
   "metadata": {},
   "outputs": [
    {
     "data": {
      "text/plain": [
       "torch.Tensor"
      ]
     },
     "execution_count": 15,
     "metadata": {},
     "output_type": "execute_result"
    }
   ],
   "source": [
    "image_tensor = F.to_tensor(image)\n",
    "\n",
    "type(image_tensor)"
   ]
  },
  {
   "cell_type": "code",
   "execution_count": 16,
   "metadata": {},
   "outputs": [
    {
     "data": {
      "text/plain": [
       "torch.Tensor"
      ]
     },
     "execution_count": 16,
     "metadata": {},
     "output_type": "execute_result"
    }
   ],
   "source": [
    "# More efficient way \n",
    "\n",
    "trn = transforms.Compose([lambda img: F.to_tensor(img)])\n",
    "\n",
    "image_tensor = trn(image)\n",
    "\n",
    "type(image_tensor)\n"
   ]
  },
  {
   "cell_type": "code",
   "execution_count": 17,
   "metadata": {},
   "outputs": [
    {
     "data": {
      "text/plain": [
       "tensor(1.)"
      ]
     },
     "execution_count": 17,
     "metadata": {},
     "output_type": "execute_result"
    }
   ],
   "source": [
    "image_tensor.max()"
   ]
  },
  {
   "cell_type": "code",
   "execution_count": 18,
   "metadata": {},
   "outputs": [
    {
     "data": {
      "text/plain": [
       "tensor(0.)"
      ]
     },
     "execution_count": 18,
     "metadata": {},
     "output_type": "execute_result"
    }
   ],
   "source": [
    "image_tensor.min()"
   ]
  },
  {
   "cell_type": "code",
   "execution_count": 19,
   "metadata": {},
   "outputs": [
    {
     "data": {
      "text/plain": [
       "torch.Size([1, 28, 28])"
      ]
     },
     "execution_count": 19,
     "metadata": {},
     "output_type": "execute_result"
    }
   ],
   "source": [
    "image_tensor.shape # with the shape C, H, W\n",
    "# C: 3 for RGB images, 1 for grayscale"
   ]
  },
  {
   "cell_type": "code",
   "execution_count": 20,
   "metadata": {},
   "outputs": [
    {
     "data": {
      "image/png": "[encoded data removed]",
      "text/plain": [
       "<Figure size 640x480 with 1 Axes>"
      ]
     },
     "metadata": {},
     "output_type": "display_data"
    }
   ],
   "source": [
    "plt.imshow(image_tensor.squeeze(), cmap='gray')\n",
    "plt.show()"
   ]
  },
  {
   "cell_type": "markdown",
   "metadata": {},
   "source": [
    "The `transform` attribute allows users to pass custom transformations when they create an instance of the dataset."
   ]
  },
  {
   "cell_type": "code",
   "execution_count": 21,
   "metadata": {},
   "outputs": [],
   "source": [
    "train_set.transform = trn\n",
    "valid_set.transform = trn "
   ]
  },
  {
   "cell_type": "code",
   "execution_count": 22,
   "metadata": {},
   "outputs": [],
   "source": [
    "batch_size = 32\n",
    "\n",
    "train_loader = DataLoader(train_set, batch_size=batch_size, shuffle=True) # have the data reshuffled at every epoch \n",
    "valid_loader = DataLoader(valid_set, batch_size=batch_size)\n"
   ]
  },
  {
   "cell_type": "markdown",
   "metadata": {},
   "source": [
    "### Part 2: Defining and Compiling Model"
   ]
  },
  {
   "cell_type": "markdown",
   "metadata": {},
   "source": [
    "Next, we focus on creating layers for our neural network model."
   ]
  },
  {
   "cell_type": "code",
   "execution_count": 23,
   "metadata": {},
   "outputs": [
    {
     "name": "stdout",
     "output_type": "stream",
     "text": [
      "Original tensor shape: torch.Size([1, 2, 3])\n",
      "tensor([[[1, 2, 3],\n",
      "         [4, 5, 6]]])\n",
      "\n",
      "Flattened tensor shape: torch.Size([1, 6])\n",
      "tensor([[1, 2, 3, 4, 5, 6]])\n"
     ]
    }
   ],
   "source": [
    "# Define a small tensor with shape (1, 2, 3)\n",
    "tensor = torch.tensor([[[1, 2, 3], [4, 5, 6]]])\n",
    "\n",
    "print(\"Original tensor shape:\", tensor.shape)\n",
    "print(tensor)\n",
    "\n",
    "# Define the flatten layer\n",
    "flatten = nn.Flatten()\n",
    "\n",
    "# Apply the flatten operation to the tensor\n",
    "flattened_tensor = flatten(tensor)\n",
    "\n",
    "print(\"\\nFlattened tensor shape:\", flattened_tensor.shape)\n",
    "print(flattened_tensor)"
   ]
  },
  {
   "cell_type": "code",
   "execution_count": 24,
   "metadata": {},
   "outputs": [
    {
     "name": "stdout",
     "output_type": "stream",
     "text": [
      "[Flatten(start_dim=1, end_dim=-1), Linear(in_features=784, out_features=512, bias=True), ReLU()]\n"
     ]
    }
   ],
   "source": [
    "layers = [\n",
    "    nn.Flatten(),\n",
    "    nn.Linear(1*28*28, 512),  # Input to Hidden \n",
    "    nn.ReLU(),  # Activation \n",
    "]\n",
    "\n",
    "print(layers)"
   ]
  },
  {
   "cell_type": "markdown",
   "metadata": {},
   "source": [
    "Suppose you have an input tensor with the shape `(batch_size, channels, height, width)`, which is a typical shape for images in PyTorch. Applying `Flatten(start_dim=1, end_dim=-1)` to this tensor will flatten all dimensions from the second dimension (channels) to the last dimension (width) into a single dimension.\n",
    "The output tensor will have the shape `(batch_size, channels * height * width)`."
   ]
  },
  {
   "cell_type": "markdown",
   "metadata": {},
   "source": [
    "Next, we will add an additional densely connected linear layer, i.e., hidden layer"
   ]
  },
  {
   "cell_type": "code",
   "execution_count": 25,
   "metadata": {},
   "outputs": [
    {
     "name": "stdout",
     "output_type": "stream",
     "text": [
      "[Flatten(start_dim=1, end_dim=-1), Linear(in_features=784, out_features=512, bias=True), ReLU(), Linear(in_features=512, out_features=512, bias=True), ReLU()]\n"
     ]
    }
   ],
   "source": [
    "layers = [\n",
    "    nn.Flatten(),\n",
    "    nn.Linear(1*28*28, 512),  # Input to Hidden\n",
    "    nn.ReLU(),  # Activation \n",
    "    nn.Linear(512, 512),  # Hidden to another Hidden\n",
    "    nn.ReLU()  # Activation \n",
    "]\n",
    "\n",
    "print(layers)"
   ]
  },
  {
   "cell_type": "code",
   "execution_count": 26,
   "metadata": {},
   "outputs": [
    {
     "name": "stdout",
     "output_type": "stream",
     "text": [
      "[Flatten(start_dim=1, end_dim=-1), Linear(in_features=784, out_features=512, bias=True), ReLU(), Linear(in_features=512, out_features=512, bias=True), ReLU(), Linear(in_features=512, out_features=10, bias=True)]\n"
     ]
    }
   ],
   "source": [
    "# Add output layer with 10 nodes \n",
    "\n",
    "n_classes = 10\n",
    "\n",
    "layers = [\n",
    "    nn.Flatten(),\n",
    "    nn.Linear(1*28*28, 512),  # Input to Hidden\n",
    "    nn.ReLU(),  # Activation \n",
    "    nn.Linear(512, 512),  # Hidden\n",
    "    nn.ReLU(),  # Activation \n",
    "    nn.Linear(512, n_classes)  # Output\n",
    "]\n",
    "\n",
    "print(layers)"
   ]
  },
  {
   "cell_type": "markdown",
   "metadata": {},
   "source": [
    "In Python, the asterisk (*) before a list performs a specific operation called \"unpacking\". It essentially takes all the elements within the list and \"unpacks\" them, allowing them to be treated as individual arguments."
   ]
  },
  {
   "cell_type": "code",
   "execution_count": 27,
   "metadata": {},
   "outputs": [
    {
     "data": {
      "text/plain": [
       "Sequential(\n",
       "  (0): Flatten(start_dim=1, end_dim=-1)\n",
       "  (1): Linear(in_features=784, out_features=512, bias=True)\n",
       "  (2): ReLU()\n",
       "  (3): Linear(in_features=512, out_features=512, bias=True)\n",
       "  (4): ReLU()\n",
       "  (5): Linear(in_features=512, out_features=10, bias=True)\n",
       ")"
      ]
     },
     "execution_count": 27,
     "metadata": {},
     "output_type": "execute_result"
    }
   ],
   "source": [
    "model = nn.Sequential(*layers)\n",
    "model"
   ]
  },
  {
   "cell_type": "code",
   "execution_count": 28,
   "metadata": {},
   "outputs": [
    {
     "data": {
      "text/plain": [
       "Sequential(\n",
       "  (0): Flatten(start_dim=1, end_dim=-1)\n",
       "  (1): Linear(in_features=784, out_features=512, bias=True)\n",
       "  (2): ReLU()\n",
       "  (3): Linear(in_features=512, out_features=512, bias=True)\n",
       "  (4): ReLU()\n",
       "  (5): Linear(in_features=512, out_features=10, bias=True)\n",
       ")"
      ]
     },
     "execution_count": 28,
     "metadata": {},
     "output_type": "execute_result"
    }
   ],
   "source": [
    "# send the model to \"device\"\n",
    "\n",
    "model.to(device)"
   ]
  },
  {
   "cell_type": "markdown",
   "metadata": {},
   "source": [
    "The main goal of `torch.compile` is to speed up model training and inference by optimizing operations under the hood."
   ]
  },
  {
   "cell_type": "code",
   "execution_count": 29,
   "metadata": {},
   "outputs": [],
   "source": [
    "model = torch.compile(model)"
   ]
  },
  {
   "cell_type": "markdown",
   "metadata": {},
   "source": [
    "### Part 3: Training and Evaluating Model"
   ]
  },
  {
   "cell_type": "markdown",
   "metadata": {},
   "source": [
    "`nn.CrossEntropyLoss()` is a loss function in PyTorch commonly used for classification tasks. It combines two operations: softmax and negative log-likelihood (NLL), making it suitable for multi-class classification problems where the model outputs raw scores (logits) for each class."
   ]
  },
  {
   "cell_type": "code",
   "execution_count": 30,
   "metadata": {},
   "outputs": [],
   "source": [
    "loss_function = nn.CrossEntropyLoss()"
   ]
  },
  {
   "cell_type": "code",
   "execution_count": 31,
   "metadata": {},
   "outputs": [],
   "source": [
    "optimizer = Adam(model.parameters())"
   ]
  },
  {
   "cell_type": "code",
   "execution_count": 32,
   "metadata": {},
   "outputs": [
    {
     "data": {
      "text/plain": [
       "[Parameter containing:\n",
       " tensor([[-0.0339,  0.0098,  0.0346,  ..., -0.0192,  0.0108,  0.0221],\n",
       "         [ 0.0010,  0.0149,  0.0286,  ...,  0.0304, -0.0043,  0.0332],\n",
       "         [-0.0138, -0.0283,  0.0089,  ..., -0.0281,  0.0288, -0.0211],\n",
       "         ...,\n",
       "         [ 0.0146,  0.0193, -0.0266,  ...,  0.0105,  0.0157, -0.0277],\n",
       "         [ 0.0180, -0.0153,  0.0279,  ...,  0.0016,  0.0179, -0.0177],\n",
       "         [ 0.0295,  0.0296, -0.0133,  ...,  0.0016,  0.0210,  0.0203]],\n",
       "        device='cuda:0', requires_grad=True),\n",
       " Parameter containing:\n",
       " tensor([-0.0005, -0.0028, -0.0241,  0.0057,  0.0017,  0.0059,  0.0126, -0.0260,\n",
       "         -0.0124,  0.0002, -0.0113,  0.0144,  0.0067,  0.0213, -0.0032,  0.0054,\n",
       "          0.0073, -0.0142, -0.0302,  0.0050,  0.0209,  0.0257, -0.0314, -0.0244,\n",
       "          0.0299, -0.0202,  0.0311, -0.0132, -0.0304, -0.0195, -0.0032,  0.0194,\n",
       "          0.0209,  0.0209, -0.0268,  0.0024,  0.0187, -0.0353, -0.0137,  0.0247,\n",
       "         -0.0355, -0.0180, -0.0213,  0.0035, -0.0350,  0.0144,  0.0017, -0.0178,\n",
       "         -0.0097, -0.0002,  0.0107,  0.0256,  0.0062, -0.0301, -0.0075, -0.0101,\n",
       "         -0.0135, -0.0327,  0.0026,  0.0019,  0.0204,  0.0292,  0.0157,  0.0143,\n",
       "         -0.0327,  0.0193, -0.0302, -0.0047, -0.0032, -0.0034, -0.0203,  0.0229,\n",
       "          0.0179, -0.0037, -0.0071, -0.0199, -0.0182, -0.0010,  0.0238,  0.0069,\n",
       "         -0.0224,  0.0100,  0.0083, -0.0259, -0.0195, -0.0142, -0.0047, -0.0206,\n",
       "          0.0020, -0.0085,  0.0147, -0.0257, -0.0220, -0.0345, -0.0054,  0.0031,\n",
       "         -0.0221,  0.0170,  0.0061,  0.0350, -0.0096,  0.0122,  0.0043, -0.0312,\n",
       "         -0.0030, -0.0286, -0.0348, -0.0061, -0.0218,  0.0140, -0.0143,  0.0126,\n",
       "         -0.0096,  0.0324, -0.0033,  0.0078, -0.0203, -0.0347, -0.0323,  0.0078,\n",
       "          0.0226, -0.0050, -0.0353, -0.0112, -0.0189,  0.0193,  0.0131,  0.0226,\n",
       "          0.0347,  0.0016, -0.0309, -0.0003,  0.0041,  0.0121, -0.0009,  0.0121,\n",
       "          0.0169,  0.0163,  0.0299,  0.0033, -0.0125, -0.0193,  0.0058, -0.0287,\n",
       "          0.0333,  0.0350, -0.0246, -0.0143,  0.0179, -0.0049, -0.0149,  0.0311,\n",
       "         -0.0040, -0.0247, -0.0171, -0.0138,  0.0049,  0.0190,  0.0164,  0.0020,\n",
       "         -0.0182, -0.0168,  0.0010, -0.0051,  0.0291,  0.0172, -0.0185,  0.0293,\n",
       "         -0.0269, -0.0033,  0.0083,  0.0246, -0.0304,  0.0333,  0.0162, -0.0104,\n",
       "         -0.0186,  0.0116, -0.0120, -0.0331,  0.0220,  0.0249, -0.0082, -0.0297,\n",
       "         -0.0019,  0.0251, -0.0219,  0.0176,  0.0244, -0.0224, -0.0006, -0.0210,\n",
       "          0.0190, -0.0071, -0.0107,  0.0148,  0.0157,  0.0167, -0.0344, -0.0131,\n",
       "         -0.0335, -0.0134,  0.0339, -0.0116,  0.0076, -0.0192,  0.0280, -0.0239,\n",
       "         -0.0093, -0.0271,  0.0342, -0.0298,  0.0144,  0.0349,  0.0310,  0.0144,\n",
       "          0.0246,  0.0171, -0.0202,  0.0286, -0.0218, -0.0012, -0.0078,  0.0189,\n",
       "         -0.0156, -0.0118,  0.0149,  0.0143,  0.0028, -0.0051,  0.0338, -0.0274,\n",
       "          0.0240,  0.0335, -0.0311,  0.0340,  0.0270, -0.0268,  0.0288,  0.0196,\n",
       "         -0.0049,  0.0354,  0.0138,  0.0102,  0.0342, -0.0153, -0.0132, -0.0307,\n",
       "          0.0016, -0.0354,  0.0225, -0.0330, -0.0329, -0.0031,  0.0295,  0.0269,\n",
       "          0.0197, -0.0213, -0.0183, -0.0351, -0.0107,  0.0305,  0.0313,  0.0356,\n",
       "         -0.0247, -0.0031,  0.0057,  0.0087, -0.0269,  0.0347,  0.0287, -0.0126,\n",
       "         -0.0066,  0.0266, -0.0318, -0.0001, -0.0119, -0.0265, -0.0085,  0.0290,\n",
       "          0.0013, -0.0347, -0.0126, -0.0320,  0.0147, -0.0155,  0.0264,  0.0212,\n",
       "         -0.0130, -0.0305,  0.0213, -0.0165, -0.0009,  0.0102, -0.0027,  0.0178,\n",
       "         -0.0133,  0.0349, -0.0349, -0.0165,  0.0140, -0.0220, -0.0178,  0.0145,\n",
       "         -0.0246, -0.0354,  0.0153,  0.0237,  0.0074,  0.0350,  0.0243,  0.0282,\n",
       "          0.0213,  0.0185,  0.0134,  0.0051,  0.0145, -0.0205, -0.0264,  0.0146,\n",
       "          0.0060,  0.0138,  0.0172,  0.0302,  0.0274, -0.0154, -0.0086, -0.0126,\n",
       "          0.0230, -0.0300, -0.0026,  0.0089,  0.0158,  0.0149,  0.0030,  0.0051,\n",
       "         -0.0036, -0.0351, -0.0175, -0.0103, -0.0116,  0.0132, -0.0319, -0.0287,\n",
       "          0.0119,  0.0298, -0.0008, -0.0046,  0.0069, -0.0097, -0.0326, -0.0311,\n",
       "         -0.0212, -0.0265,  0.0186,  0.0353, -0.0151, -0.0326,  0.0103,  0.0115,\n",
       "          0.0134, -0.0337,  0.0056,  0.0194, -0.0113, -0.0235, -0.0294, -0.0266,\n",
       "          0.0133, -0.0321, -0.0180, -0.0192, -0.0227,  0.0306, -0.0171, -0.0144,\n",
       "          0.0098, -0.0309, -0.0114,  0.0086, -0.0269,  0.0213, -0.0068, -0.0256,\n",
       "          0.0329,  0.0202, -0.0105, -0.0047,  0.0058, -0.0161,  0.0137, -0.0059,\n",
       "         -0.0247, -0.0309,  0.0345,  0.0050, -0.0287,  0.0093, -0.0222,  0.0018,\n",
       "         -0.0292, -0.0343, -0.0179, -0.0272, -0.0162,  0.0264,  0.0038, -0.0312,\n",
       "         -0.0256, -0.0064, -0.0201, -0.0333,  0.0253,  0.0271, -0.0086,  0.0311,\n",
       "          0.0111, -0.0135, -0.0134,  0.0194,  0.0295,  0.0301, -0.0128,  0.0159,\n",
       "          0.0070,  0.0008, -0.0318,  0.0153,  0.0010, -0.0338, -0.0296, -0.0077,\n",
       "         -0.0008,  0.0189,  0.0077, -0.0223, -0.0128, -0.0042,  0.0039, -0.0223,\n",
       "         -0.0326,  0.0151,  0.0284,  0.0058, -0.0113, -0.0142, -0.0221, -0.0056,\n",
       "         -0.0063, -0.0305, -0.0311, -0.0340, -0.0050, -0.0005,  0.0182,  0.0075,\n",
       "          0.0208,  0.0225, -0.0081, -0.0206, -0.0114,  0.0131,  0.0070, -0.0096,\n",
       "         -0.0276, -0.0162,  0.0114,  0.0127, -0.0117, -0.0181,  0.0247,  0.0204,\n",
       "          0.0298,  0.0132,  0.0209, -0.0328,  0.0206, -0.0347,  0.0127, -0.0282,\n",
       "         -0.0043,  0.0206,  0.0132,  0.0332, -0.0332,  0.0272, -0.0043,  0.0283,\n",
       "         -0.0216,  0.0234, -0.0031, -0.0260,  0.0178, -0.0261, -0.0195, -0.0096,\n",
       "          0.0130, -0.0220,  0.0319, -0.0341, -0.0081,  0.0234,  0.0200, -0.0158,\n",
       "          0.0324,  0.0220,  0.0008,  0.0220, -0.0116,  0.0176, -0.0157,  0.0062],\n",
       "        device='cuda:0', requires_grad=True),\n",
       " Parameter containing:\n",
       " tensor([[ 0.0120,  0.0378, -0.0264,  ..., -0.0009, -0.0388, -0.0321],\n",
       "         [-0.0317,  0.0145,  0.0126,  ..., -0.0324,  0.0432, -0.0104],\n",
       "         [ 0.0305, -0.0358, -0.0316,  ..., -0.0066,  0.0019, -0.0330],\n",
       "         ...,\n",
       "         [ 0.0389, -0.0319,  0.0250,  ...,  0.0381,  0.0338, -0.0219],\n",
       "         [ 0.0212,  0.0066, -0.0235,  ...,  0.0246, -0.0390,  0.0214],\n",
       "         [-0.0281, -0.0139,  0.0431,  ...,  0.0187,  0.0326,  0.0329]],\n",
       "        device='cuda:0', requires_grad=True),\n",
       " Parameter containing:\n",
       " tensor([ 3.5100e-02, -4.2971e-02,  1.0189e-02,  1.7278e-02,  2.3350e-02,\n",
       "          1.0056e-02,  3.6870e-03,  2.8158e-02, -2.0847e-02, -6.0966e-03,\n",
       "         -7.5639e-04, -3.1922e-02, -1.5943e-03,  2.8721e-02,  1.6523e-02,\n",
       "          3.4888e-02,  6.7825e-04,  2.4785e-02,  6.9693e-03, -2.2456e-03,\n",
       "         -3.2498e-03, -1.4370e-02,  1.6614e-02,  2.6598e-02, -5.6474e-03,\n",
       "         -1.3095e-02,  1.0496e-02, -3.1621e-02, -2.1451e-02,  8.8282e-03,\n",
       "          5.4424e-03, -2.8588e-02,  5.3177e-03, -4.3647e-02, -1.0550e-02,\n",
       "          3.0435e-02, -2.8452e-02, -1.5539e-02,  1.3162e-02,  3.1658e-02,\n",
       "         -1.0131e-02, -7.9504e-03, -1.7520e-04,  1.6267e-02,  3.0263e-02,\n",
       "         -3.4741e-02, -9.1111e-03,  3.6165e-04,  1.6424e-03,  3.4092e-02,\n",
       "          4.3064e-02, -1.9836e-02,  1.7343e-03,  3.9439e-02, -4.1450e-02,\n",
       "         -2.9401e-02,  3.6192e-02, -1.9674e-02,  5.7137e-03, -3.5138e-02,\n",
       "         -2.7295e-03,  8.9301e-03, -1.3455e-02, -3.3096e-02,  1.1689e-02,\n",
       "         -2.5755e-02,  3.7656e-02,  4.1993e-02, -4.2587e-02,  1.7536e-02,\n",
       "         -3.4964e-02,  3.5523e-02, -2.4045e-02,  1.3688e-02, -2.1042e-02,\n",
       "         -1.0857e-02, -2.5990e-03,  8.6369e-03,  3.4887e-02,  9.2955e-03,\n",
       "          2.7992e-02, -3.6884e-02,  3.7412e-02, -3.0736e-05, -6.7404e-03,\n",
       "         -2.0261e-02, -2.3936e-03,  3.5399e-02, -1.7709e-03,  4.2254e-02,\n",
       "         -2.5192e-02,  3.9352e-02, -3.0545e-02, -2.8681e-02,  3.0563e-02,\n",
       "          7.7183e-03,  3.6859e-02,  3.6797e-02,  1.2994e-02,  2.5963e-02,\n",
       "          9.6459e-04, -3.4445e-02, -7.3164e-03,  2.2761e-02, -9.4613e-03,\n",
       "          2.2214e-02,  3.5790e-02, -1.9813e-02, -3.1444e-02, -2.5389e-02,\n",
       "         -1.3672e-02, -4.3530e-02, -2.6337e-02, -3.3029e-02, -3.8569e-03,\n",
       "         -2.6286e-02,  3.8982e-02,  6.9341e-03,  3.9154e-02,  2.6437e-02,\n",
       "          4.3998e-02, -1.5754e-02,  1.3451e-02, -3.7383e-02,  1.1402e-02,\n",
       "          3.5109e-02, -4.1086e-02, -4.0206e-02,  4.3544e-02,  2.6184e-02,\n",
       "         -3.0846e-02, -4.1467e-02, -3.3101e-02,  2.8448e-02,  3.2419e-02,\n",
       "         -1.3952e-02,  2.7435e-02,  3.2519e-02, -2.5341e-02, -3.4572e-03,\n",
       "         -4.3613e-02, -7.5475e-03,  9.6548e-03,  1.4722e-02,  1.9328e-02,\n",
       "         -1.4037e-02,  1.0869e-02,  1.6845e-02, -2.4361e-02,  2.0701e-02,\n",
       "         -2.2857e-02,  2.1371e-02, -3.7844e-02,  1.9191e-02,  2.2528e-02,\n",
       "          4.2788e-02,  3.4775e-02, -1.1569e-02, -2.2102e-03,  3.4639e-02,\n",
       "          3.1476e-02,  1.4985e-02,  8.6622e-03, -4.3175e-02, -4.1444e-02,\n",
       "         -1.5239e-02,  3.1680e-02, -1.7405e-02,  3.2969e-02, -3.3764e-02,\n",
       "          3.9062e-02, -6.9742e-03,  1.0362e-02,  1.2013e-02,  3.3542e-02,\n",
       "          2.6226e-02, -2.7967e-02,  2.8112e-02, -2.8287e-02,  2.9172e-02,\n",
       "          2.4594e-02, -3.6150e-02, -2.8185e-02, -4.2988e-02, -1.7382e-02,\n",
       "         -3.4088e-02,  3.4868e-02,  1.8920e-02,  3.8181e-02,  4.2002e-02,\n",
       "          3.0309e-02, -3.2540e-02,  7.9248e-04, -3.1251e-02, -6.3011e-03,\n",
       "         -1.1323e-02,  1.9736e-02, -1.6774e-02,  1.7768e-02,  2.3624e-02,\n",
       "         -2.7583e-02, -3.3318e-03, -1.3455e-02, -3.3126e-02,  3.8094e-02,\n",
       "         -3.9984e-02,  2.4108e-02,  2.4247e-02,  2.4720e-02, -1.3944e-02,\n",
       "         -2.3063e-02, -7.2803e-03, -2.5313e-02,  1.8642e-02, -1.6710e-02,\n",
       "         -3.3264e-02, -2.8756e-02,  2.9455e-02,  3.3536e-02, -3.5870e-02,\n",
       "          3.8054e-02,  9.7492e-03,  2.5983e-02,  3.7814e-02, -7.4320e-03,\n",
       "         -2.3113e-02,  8.3999e-03, -2.0383e-02, -1.2542e-02, -3.1168e-02,\n",
       "          3.7208e-02, -3.8925e-02,  1.8520e-02, -2.8531e-03, -1.2659e-02,\n",
       "         -1.8010e-02,  8.3938e-03,  3.9623e-03,  3.7885e-02,  1.6473e-02,\n",
       "         -3.8956e-02, -4.0330e-02,  2.2052e-02, -2.5717e-02,  3.6608e-02,\n",
       "         -1.6753e-02, -1.3711e-02, -3.0438e-02, -1.2646e-02, -6.1603e-03,\n",
       "          1.6461e-02, -2.2921e-02, -4.0732e-02,  3.0063e-02,  1.9121e-02,\n",
       "          1.6045e-02,  1.3846e-02,  3.6243e-03, -2.3776e-02, -1.2979e-02,\n",
       "          1.7841e-02, -2.3584e-03, -2.4231e-02, -1.4050e-02,  1.8895e-04,\n",
       "          3.9765e-02,  1.0301e-03, -3.8064e-02, -4.1527e-02, -9.9728e-03,\n",
       "         -4.1715e-02, -2.2541e-02, -3.9714e-02,  1.4930e-02, -3.5408e-02,\n",
       "         -4.0749e-02,  1.5142e-02, -1.0468e-02, -3.6871e-03,  1.2921e-02,\n",
       "          2.7243e-02, -3.3061e-03, -4.3881e-02, -8.9834e-03,  1.9287e-02,\n",
       "          5.1404e-03, -2.5296e-02,  4.1213e-02,  1.8741e-02, -6.2702e-03,\n",
       "          4.3524e-02, -2.8303e-02,  2.5427e-02, -2.2311e-02,  2.5244e-02,\n",
       "         -3.2614e-02,  2.0021e-02, -4.3086e-02, -2.7350e-02,  3.4748e-02,\n",
       "         -3.6155e-02, -4.0427e-02,  8.0353e-03, -1.1228e-02,  6.2616e-04,\n",
       "         -4.5037e-03, -1.3300e-02, -5.9352e-03, -3.0386e-02, -2.7854e-02,\n",
       "         -3.8872e-02, -1.3956e-02, -2.8818e-02,  3.1782e-03,  3.9006e-02,\n",
       "         -3.4013e-02,  1.7739e-02,  3.1458e-02,  1.5887e-02, -3.5294e-02,\n",
       "          3.9491e-02,  2.9437e-02, -1.0728e-02, -1.9193e-03, -3.9197e-02,\n",
       "          1.0267e-02,  5.1878e-03, -1.7891e-02,  4.3117e-02,  2.8815e-02,\n",
       "          2.8170e-02,  1.5375e-02,  3.0666e-02,  4.3613e-02,  3.0473e-02,\n",
       "         -2.5248e-02, -2.1690e-02, -3.1978e-02,  1.4794e-02,  3.9957e-02,\n",
       "          3.2508e-02,  2.8615e-02, -2.3521e-02, -3.5280e-02,  3.4095e-02,\n",
       "          2.8090e-02, -3.3687e-02,  4.0897e-02,  1.5397e-02,  3.7278e-02,\n",
       "          1.0418e-02, -9.2722e-03, -8.0467e-03, -3.5045e-02,  3.9020e-02,\n",
       "          1.7704e-02,  6.8209e-03, -3.6771e-02,  2.9369e-02, -4.1660e-03,\n",
       "          3.1113e-02, -3.1602e-02, -9.8439e-03,  9.8113e-03,  3.9694e-02,\n",
       "         -3.6325e-02, -2.2511e-02,  3.3718e-02,  2.5389e-03,  1.6207e-02,\n",
       "         -2.7832e-02, -9.5654e-03, -4.0219e-02, -4.1649e-02,  4.4860e-03,\n",
       "         -1.4591e-02,  2.6300e-02,  2.0657e-02,  2.5250e-02, -3.4480e-02,\n",
       "         -2.8685e-02, -2.7366e-02, -2.1751e-02,  1.1301e-02, -2.2132e-03,\n",
       "         -3.5469e-02,  4.9422e-03, -3.9449e-02, -3.8408e-03,  2.4291e-02,\n",
       "          3.6133e-02, -3.0406e-02,  2.6164e-02,  3.6200e-02, -2.1136e-02,\n",
       "          3.0727e-02,  2.8482e-03,  2.6413e-02,  6.7443e-03, -1.7153e-02,\n",
       "          8.8792e-03,  9.9119e-03,  4.4036e-02,  3.6387e-02,  1.1865e-02,\n",
       "          8.3668e-03,  2.9372e-02,  2.8357e-02, -2.7021e-03,  1.2837e-02,\n",
       "          5.6908e-03, -1.0549e-02,  3.2819e-02, -2.7268e-02,  3.0309e-02,\n",
       "         -4.4014e-02, -3.9476e-02,  3.1331e-02, -3.0436e-02, -3.6146e-05,\n",
       "          3.2512e-03,  3.7866e-02, -4.0488e-02, -1.4009e-02,  2.6334e-02,\n",
       "          7.8158e-03, -2.5753e-02,  3.9297e-02, -3.2566e-02, -1.1203e-02,\n",
       "         -1.3401e-02,  4.0524e-02,  2.4436e-02,  2.8003e-02, -2.4693e-02,\n",
       "         -1.3020e-02,  3.8005e-02, -1.2958e-02,  1.6401e-02,  2.0960e-02,\n",
       "         -7.2492e-03,  2.1146e-02,  1.2565e-02,  2.1354e-02, -3.2584e-02,\n",
       "          3.3058e-02, -4.0465e-02, -2.7461e-02, -8.7872e-03,  2.3547e-02,\n",
       "          3.9772e-02, -1.3488e-02,  5.5861e-03, -1.1505e-02, -1.5266e-02,\n",
       "          3.2523e-02,  4.2582e-02,  8.5991e-03,  3.7134e-02,  1.7054e-02,\n",
       "          2.6555e-02,  1.8631e-02, -1.6817e-02, -4.1031e-02, -1.6051e-03,\n",
       "          2.7415e-02, -2.5476e-03, -1.6814e-02,  4.2549e-02, -4.9287e-03,\n",
       "          1.7535e-02,  2.3773e-02,  1.0047e-02,  3.5375e-02, -3.3813e-02,\n",
       "         -2.9209e-02,  1.0807e-02,  8.1253e-03, -1.4006e-02,  3.7351e-02,\n",
       "          4.0769e-02,  1.7819e-02,  1.7786e-02,  2.0507e-02, -2.8865e-02,\n",
       "         -3.7729e-02, -3.7887e-02,  2.8613e-02, -2.8800e-02, -3.5607e-02,\n",
       "          3.7962e-02,  2.3968e-02, -2.6648e-02, -3.7638e-02,  2.4079e-02,\n",
       "         -3.0034e-02,  4.3765e-02,  5.4597e-03, -7.9158e-04, -3.1044e-02,\n",
       "         -3.4128e-02, -4.3853e-03, -1.4581e-02,  2.2517e-02, -1.6370e-02,\n",
       "         -1.1509e-02,  2.1384e-03,  4.3969e-02, -3.8267e-02,  1.3127e-02,\n",
       "         -1.2448e-02,  2.7251e-03], device='cuda:0', requires_grad=True),\n",
       " Parameter containing:\n",
       " tensor([[-0.0282,  0.0294,  0.0124,  ...,  0.0371, -0.0025,  0.0358],\n",
       "         [-0.0113, -0.0026, -0.0173,  ...,  0.0078, -0.0337,  0.0173],\n",
       "         [-0.0093,  0.0195,  0.0439,  ...,  0.0267, -0.0038,  0.0013],\n",
       "         ...,\n",
       "         [ 0.0285,  0.0148,  0.0059,  ...,  0.0208, -0.0320,  0.0063],\n",
       "         [ 0.0162, -0.0291,  0.0220,  ...,  0.0003, -0.0193,  0.0033],\n",
       "         [ 0.0108,  0.0140, -0.0273,  ..., -0.0195, -0.0316,  0.0236]],\n",
       "        device='cuda:0', requires_grad=True),\n",
       " Parameter containing:\n",
       " tensor([ 4.1680e-02, -2.9935e-02, -1.8935e-02,  3.5582e-02,  1.8897e-02,\n",
       "          1.9290e-02, -4.6156e-05,  1.9379e-02,  2.7833e-02, -4.2886e-04],\n",
       "        device='cuda:0', requires_grad=True)]"
      ]
     },
     "execution_count": 32,
     "metadata": {},
     "output_type": "execute_result"
    }
   ],
   "source": [
    "# what is inside? \n",
    "list(model.parameters())"
   ]
  },
  {
   "cell_type": "markdown",
   "metadata": {},
   "source": [
    "Next step is to evaluate \"accuracy\" or the number of correct predictions"
   ]
  },
  {
   "cell_type": "code",
   "execution_count": 33,
   "metadata": {},
   "outputs": [
    {
     "name": "stdout",
     "output_type": "stream",
     "text": [
      "60000 10000\n"
     ]
    }
   ],
   "source": [
    "train_N = len(train_loader.dataset)\n",
    "valid_N = len(valid_loader.dataset)\n",
    "print(train_N, valid_N)"
   ]
  },
  {
   "cell_type": "code",
   "execution_count": 34,
   "metadata": {},
   "outputs": [],
   "source": [
    "def get_batch_accuracy(output, y, N):\n",
    "    \"\"\"\n",
    "    Calculates the accuracy of predictions in a batch.\n",
    "\n",
    "    Args:\n",
    "        output (torch.Tensor): The model's raw output (logits) for the batch, \n",
    "                               typically of shape (batch_size, num_classes).\n",
    "        y (torch.Tensor): The true labels for the batch, of shape (batch_size,).\n",
    "        N (int): The total number of samples.  \n",
    "\n",
    "    Returns:\n",
    "        float: The accuracy of the batch, computed as the number of correct\n",
    "               predictions divided by the total number of samples (N).\n",
    "\n",
    "    \"\"\" \n",
    "    pred = output.argmax(dim=1, keepdim=True)\n",
    "    correct = pred.eq(y.view_as(pred)).sum().item()\n",
    "    return correct / N"
   ]
  },
  {
   "cell_type": "code",
   "execution_count": 35,
   "metadata": {},
   "outputs": [],
   "source": [
    "def train():\n",
    "    # Initialize cumulative loss and accuracy for the epoch\n",
    "    loss = 0\n",
    "    accuracy = 0\n",
    "\n",
    "    # Set the model to training mode (important for layers like dropout, etc.)\n",
    "    model.train()\n",
    "\n",
    "    # Loop through batches of data from the train_loader\n",
    "    for x, y in train_loader:\n",
    "        # Move input data (x) and labels (y) to the specified device (CPU/GPU)\n",
    "        x, y = x.to(device), y.to(device)\n",
    "\n",
    "        # Perform a forward pass: compute the model's output for the batch\n",
    "        output = model(x)\n",
    "\n",
    "        # Zero out the gradients from the previous step to prevent accumulation\n",
    "        optimizer.zero_grad()\n",
    "\n",
    "        # Compute the loss for this batch using the loss function\n",
    "        batch_loss = loss_function(output, y)\n",
    "\n",
    "        # Perform backpropagation to compute gradients of the loss with respect to model parameters\n",
    "        batch_loss.backward()\n",
    "\n",
    "        # Update the model parameters using the computed gradients\n",
    "        optimizer.step()\n",
    "\n",
    "        # Add the batch loss to the cumulative loss for this epoch \n",
    "        loss += batch_loss.item()\n",
    "\n",
    "        # Add the batch accuracy to the cumulative accuracy \n",
    "        accuracy += get_batch_accuracy(output, y, train_N)\n",
    "\n",
    "    # Print the cumulative loss and accuracy for the epoch, formatting the values for clarity\n",
    "    print('Train - Loss: {:.4f} Accuracy: {:.4f}'.format(loss, accuracy))\n"
   ]
  },
  {
   "cell_type": "code",
   "execution_count": 36,
   "metadata": {},
   "outputs": [],
   "source": [
    "def validate():\n",
    "    loss = 0\n",
    "    accuracy = 0\n",
    "\n",
    "    model.eval()\n",
    "    with torch.no_grad():\n",
    "        for x, y in valid_loader:\n",
    "            x, y = x.to(device), y.to(device)\n",
    "            output = model(x) # no backpropagation needed here \n",
    "\n",
    "            loss += loss_function(output, y).item()\n",
    "            accuracy += get_batch_accuracy(output, y, valid_N)\n",
    "    print('Valid - Loss: {:.4f} Accuracy: {:.4f}'.format(loss, accuracy))"
   ]
  },
  {
   "cell_type": "code",
   "execution_count": 37,
   "metadata": {},
   "outputs": [
    {
     "name": "stdout",
     "output_type": "stream",
     "text": [
      "Epoch: 0\n"
     ]
    },
    {
     "name": "stderr",
     "output_type": "stream",
     "text": [
      "/home/farhad/anaconda3/envs/mytorch/lib/python3.11/site-packages/torch/_inductor/compile_fx.py:124: UserWarning: TensorFloat32 tensor cores for float32 matrix multiplication available but not enabled. Consider setting `torch.set_float32_matmul_precision('high')` for better performance.\n",
      "  warnings.warn(\n"
     ]
    },
    {
     "name": "stdout",
     "output_type": "stream",
     "text": [
      "Train - Loss: 380.1629 Accuracy: 0.9372\n",
      "Valid - Loss: 32.7596 Accuracy: 0.9685\n",
      "Epoch: 1\n",
      "Train - Loss: 155.8399 Accuracy: 0.9747\n",
      "Valid - Loss: 29.7611 Accuracy: 0.9683\n",
      "Epoch: 2\n",
      "Train - Loss: 110.7205 Accuracy: 0.9813\n",
      "Valid - Loss: 22.1214 Accuracy: 0.9785\n",
      "Epoch: 3\n",
      "Train - Loss: 79.7786 Accuracy: 0.9861\n",
      "Valid - Loss: 24.2450 Accuracy: 0.9768\n",
      "Epoch: 4\n",
      "Train - Loss: 66.8988 Accuracy: 0.9881\n",
      "Valid - Loss: 22.0565 Accuracy: 0.9801\n"
     ]
    }
   ],
   "source": [
    "# Number of epochs to train the model\n",
    "epochs = 5\n",
    "\n",
    "# Loop over each epoch\n",
    "for epoch in range(epochs):\n",
    "    # Print the current epoch number\n",
    "    print('Epoch: {}'.format(epoch))\n",
    "    \n",
    "    # Call the train function to train the model for one epoch\n",
    "    train()\n",
    "    \n",
    "    # Call the validate function to evaluate the model's performance on the validation set\n",
    "    validate()\n"
   ]
  },
  {
   "cell_type": "code",
   "execution_count": 38,
   "metadata": {},
   "outputs": [
    {
     "data": {
      "text/plain": [
       "<matplotlib.image.AxesImage at 0x7fb0bc34ee90>"
      ]
     },
     "execution_count": 38,
     "metadata": {},
     "output_type": "execute_result"
    },
    {
     "data": {
      "image/png": "[encoded data removed]",
      "text/plain": [
       "<Figure size 640x480 with 1 Axes>"
      ]
     },
     "metadata": {},
     "output_type": "display_data"
    }
   ],
   "source": [
    "plt.imshow(image_tensor.squeeze(), cmap='gray')"
   ]
  },
  {
   "cell_type": "code",
   "execution_count": 39,
   "metadata": {},
   "outputs": [
    {
     "data": {
      "text/plain": [
       "tensor([[-23.4364, -14.2583, -14.1827,   4.2504, -20.3917,  20.2187, -11.8518,\n",
       "         -18.2072, -11.3152,  -7.4485]], device='cuda:0',\n",
       "       grad_fn=<CompiledFunctionBackward>)"
      ]
     },
     "execution_count": 39,
     "metadata": {},
     "output_type": "execute_result"
    }
   ],
   "source": [
    "model(image_tensor.to(device))"
   ]
  },
  {
   "cell_type": "code",
   "execution_count": 42,
   "metadata": {},
   "outputs": [
    {
     "data": {
      "text/plain": [
       "tensor([5], device='cuda:0')"
      ]
     },
     "execution_count": 42,
     "metadata": {},
     "output_type": "execute_result"
    }
   ],
   "source": [
    "model(image_tensor.to(device)).argmax(dim=1)"
   ]
  },
  {
   "cell_type": "code",
   "execution_count": null,
   "metadata": {},
   "outputs": [],
   "source": []
  }
 ],
 "metadata": {
  "kernelspec": {
   "display_name": "mytorch",
   "language": "python",
   "name": "python3"
  },
  "language_info": {
   "codemirror_mode": {
    "name": "ipython",
    "version": 3
   },
   "file_extension": ".py",
   "mimetype": "text/x-python",
   "name": "python",
   "nbconvert_exporter": "python",
   "pygments_lexer": "ipython3",
   "version": "3.11.5"
  }
 },
 "nbformat": 4,
 "nbformat_minor": 2
}
